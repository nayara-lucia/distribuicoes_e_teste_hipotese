{
 "cells": [
  {
   "cell_type": "code",
   "execution_count": 2,
   "id": "a0d01630-0e49-4291-ae5f-51995fea555e",
   "metadata": {},
   "outputs": [],
   "source": [
    "import numpy as np\n",
    "import pandas as pd\n",
    "from scipy.stats import t\n",
    "from scipy.stats import binom\n",
    "from scipy.stats import poisson\n",
    "from scipy.stats import chi2_contingency"
   ]
  },
  {
   "cell_type": "markdown",
   "id": "eb4b833d-82c4-4698-bd99-1a62c9cb622a",
   "metadata": {},
   "source": [
    "<b>Distribuição T de student</b><hr>\n",
    "Média de salário dos cientistas de dados = R$75.00 por hora. Amostra com 9 funcionários e Desvio padrão (amostral) = 10\n",
    "\n",
    "- Não se conhece o desvio padrão da população\n",
    "- Amostra com menos de 30 elementos\n",
    "- Maior variabilidade dos dados\n",
    "- Maiores intervalos de confiança \n"
   ]
  },
  {
   "cell_type": "markdown",
   "id": "1cb359c0-a893-456a-9897-b65a53cc8840",
   "metadata": {},
   "source": [
    "1. Qual a probabilidade de selecionar um cientista de dados e o salario ser <b>menor</b> que 80 por hora?"
   ]
  },
  {
   "cell_type": "code",
   "execution_count": 7,
   "id": "b1d30ec9-c827-4fc4-b76e-7d4389133574",
   "metadata": {},
   "outputs": [
    {
     "data": {
      "text/plain": [
       "8"
      ]
     },
     "execution_count": 7,
     "metadata": {},
     "output_type": "execute_result"
    }
   ],
   "source": [
    "n = 9\n",
    "u = 75\n",
    "s = 10\n",
    "x = 80\n",
    "\n",
    "gl = n - 1\n",
    "gl"
   ]
  },
  {
   "cell_type": "code",
   "execution_count": 10,
   "id": "1174760f-3d69-46b0-b7b1-18d4ee46ab82",
   "metadata": {},
   "outputs": [
    {
     "data": {
      "text/plain": [
       "1.5"
      ]
     },
     "execution_count": 10,
     "metadata": {},
     "output_type": "execute_result"
    }
   ],
   "source": [
    "t_value = (x - u)/(s/3)\n",
    "t_value"
   ]
  },
  {
   "cell_type": "markdown",
   "id": "510a3f39-f0b5-4c00-8498-c7402afcd700",
   "metadata": {},
   "source": [
    "cdf = a esquerda da distribuição < 80\n",
    "\n",
    "t.cdf(t_value,gl)"
   ]
  },
  {
   "cell_type": "code",
   "execution_count": 12,
   "id": "2d2f7851-0532-4356-bc4b-eb39b4af90a4",
   "metadata": {},
   "outputs": [
    {
     "data": {
      "text/plain": [
       "0.9139983540240443"
      ]
     },
     "execution_count": 12,
     "metadata": {},
     "output_type": "execute_result"
    }
   ],
   "source": [
    "prob = t.cdf(t_value,gl)\n",
    "prob"
   ]
  },
  {
   "cell_type": "markdown",
   "id": "9fc13334-35bb-4a9e-92e2-e704bf0878af",
   "metadata": {},
   "source": [
    "2. Qual a probabilidade de selecionar um cientista de dados e o salario ser <b>maior</b> que 80 por hora?"
   ]
  },
  {
   "cell_type": "markdown",
   "id": "cdb5abc0-9d76-4c5d-9a61-f39526df955f",
   "metadata": {},
   "source": [
    "sf = a direita da distribuição > 80"
   ]
  },
  {
   "cell_type": "code",
   "execution_count": 14,
   "id": "cdf5871b-1456-48c8-9687-12d388b1a24d",
   "metadata": {},
   "outputs": [
    {
     "data": {
      "text/plain": [
       "0.08600164597595565"
      ]
     },
     "execution_count": 14,
     "metadata": {},
     "output_type": "execute_result"
    }
   ],
   "source": [
    "prob2 = t.sf(t_value,gl)\n",
    "prob2"
   ]
  },
  {
   "cell_type": "markdown",
   "id": "4dcd6746-cdcd-4633-b030-b6a5adcca480",
   "metadata": {},
   "source": [
    "<hr>\n",
    "Somatorio de todas as probabilidades resultando em 1"
   ]
  },
  {
   "cell_type": "code",
   "execution_count": 17,
   "id": "7875475c-300e-4a93-ac5f-4dbb888df140",
   "metadata": {},
   "outputs": [
    {
     "data": {
      "text/plain": [
       "0.9999999999999999"
      ]
     },
     "execution_count": 17,
     "metadata": {},
     "output_type": "execute_result"
    }
   ],
   "source": [
    "prob + prob2\n",
    "t.cdf(t_value,gl) + t.sf(t_value,gl)"
   ]
  },
  {
   "cell_type": "code",
   "execution_count": null,
   "id": "f584877f-0dc2-483b-aa81-f0b22ac05d60",
   "metadata": {},
   "outputs": [],
   "source": []
  }
 ],
 "metadata": {
  "kernelspec": {
   "display_name": "Python 3 (ipykernel)",
   "language": "python",
   "name": "python3"
  },
  "language_info": {
   "codemirror_mode": {
    "name": "ipython",
    "version": 3
   },
   "file_extension": ".py",
   "mimetype": "text/x-python",
   "name": "python",
   "nbconvert_exporter": "python",
   "pygments_lexer": "ipython3",
   "version": "3.9.18"
  }
 },
 "nbformat": 4,
 "nbformat_minor": 5
}
