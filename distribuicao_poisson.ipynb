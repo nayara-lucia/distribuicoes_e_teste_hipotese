{
 "cells": [
  {
   "cell_type": "code",
   "execution_count": 1,
   "id": "3042f96d-c0ea-44c5-976b-99045dd71c35",
   "metadata": {},
   "outputs": [],
   "source": [
    "import numpy as np\n",
    "import pandas as pd\n",
    "from scipy.stats import t\n",
    "from scipy.stats import binom\n",
    "from scipy.stats import poisson\n",
    "from scipy.stats import chi2_contingency"
   ]
  },
  {
   "cell_type": "markdown",
   "id": "f3f33f9f-77e7-4aa0-8b2d-94c23bd79a7a",
   "metadata": {},
   "source": [
    "<b>Distribuição Poisson</b>\n",
    "<hr>\n",
    "Medição da probabilidade de ocorrência de eventos em intervalo de tempos, com base em uma média definida.\n",
    "\n",
    "Média de acidentes de carro = 2 por dia."
   ]
  },
  {
   "cell_type": "code",
   "execution_count": 13,
   "id": "656eb194-e26b-44a7-970a-b2b90ef083a3",
   "metadata": {},
   "outputs": [],
   "source": [
    "lambda_ = 2 \n",
    "x = 3"
   ]
  },
  {
   "cell_type": "markdown",
   "id": "a3a634e2-016c-4c86-9d85-ba41e7eefb64",
   "metadata": {},
   "source": [
    "1. Probabilidade de 3 acidentes no dia"
   ]
  },
  {
   "cell_type": "markdown",
   "id": "043c42ab-5dd7-4035-8e7f-84d15bbc2b0e",
   "metadata": {},
   "source": [
    "pmf = probabilidade exata"
   ]
  },
  {
   "cell_type": "code",
   "execution_count": 14,
   "id": "fec35869-0974-48f0-ba73-f1e509234d27",
   "metadata": {},
   "outputs": [
    {
     "data": {
      "text/plain": [
       "0.18044704431548356"
      ]
     },
     "execution_count": 14,
     "metadata": {},
     "output_type": "execute_result"
    }
   ],
   "source": [
    "prob1 = poisson.pmf(x,lambda_)\n",
    "prob1"
   ]
  },
  {
   "cell_type": "markdown",
   "id": "7fd820bb-5377-40ce-b119-4b9f456531ac",
   "metadata": {},
   "source": [
    "2. Qual a probabilidade de ocorrerem 3 ou menos acidentes no dia?"
   ]
  },
  {
   "cell_type": "markdown",
   "id": "f631584c-1943-485a-9cc7-ab1bf3a57025",
   "metadata": {},
   "source": [
    "cdf = probabilidade cumulativa (menos (a esquerda da cauda))"
   ]
  },
  {
   "cell_type": "code",
   "execution_count": 11,
   "id": "21e5e1be-5708-44cd-af21-81240ff8d182",
   "metadata": {},
   "outputs": [
    {
     "data": {
      "text/plain": [
       "0.857123460498547"
      ]
     },
     "execution_count": 11,
     "metadata": {},
     "output_type": "execute_result"
    }
   ],
   "source": [
    "prob2 = poisson.cdf(x,lambda_)\n",
    "prob2"
   ]
  },
  {
   "cell_type": "markdown",
   "id": "40613bc2-04d5-4442-91d0-b6f83bfe9116",
   "metadata": {},
   "source": [
    "3. Qual a probabilidade de ocorrerem mais de 3 acidentes no dia?"
   ]
  },
  {
   "cell_type": "markdown",
   "id": "246bf6fc-2d2d-4742-865b-235707695488",
   "metadata": {},
   "source": [
    "sf = probabilidade cumulativa pra mais (a direita da cauda)"
   ]
  },
  {
   "cell_type": "code",
   "execution_count": 15,
   "id": "731b6674-a70c-4a6a-896a-593e6be9dc77",
   "metadata": {},
   "outputs": [
    {
     "data": {
      "text/plain": [
       "0.14287653950145296"
      ]
     },
     "execution_count": 15,
     "metadata": {},
     "output_type": "execute_result"
    }
   ],
   "source": [
    "prob3 = poisson.sf(x,lambda_)\n",
    "prob3"
   ]
  },
  {
   "cell_type": "markdown",
   "id": "08868a6e-c525-4df1-9d5a-3372e4420930",
   "metadata": {},
   "source": [
    "Soma das probabilidades resultando em 1 do conjunto"
   ]
  },
  {
   "cell_type": "code",
   "execution_count": 19,
   "id": "46573698-bb03-4c56-b1e8-161bf801f4ab",
   "metadata": {},
   "outputs": [
    {
     "data": {
      "text/plain": [
       "1.0"
      ]
     },
     "execution_count": 19,
     "metadata": {},
     "output_type": "execute_result"
    }
   ],
   "source": [
    "poisson.cdf(x,lambda_) + poisson.sf(x,lambda_)"
   ]
  },
  {
   "cell_type": "code",
   "execution_count": null,
   "id": "828abf3a-3ed1-47dd-be15-8160558dfbe1",
   "metadata": {},
   "outputs": [],
   "source": []
  }
 ],
 "metadata": {
  "kernelspec": {
   "display_name": "Python 3 (ipykernel)",
   "language": "python",
   "name": "python3"
  },
  "language_info": {
   "codemirror_mode": {
    "name": "ipython",
    "version": 3
   },
   "file_extension": ".py",
   "mimetype": "text/x-python",
   "name": "python",
   "nbconvert_exporter": "python",
   "pygments_lexer": "ipython3",
   "version": "3.9.18"
  }
 },
 "nbformat": 4,
 "nbformat_minor": 5
}
