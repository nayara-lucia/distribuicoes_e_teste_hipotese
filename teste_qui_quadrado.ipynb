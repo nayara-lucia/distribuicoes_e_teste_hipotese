{
 "cells": [
  {
   "cell_type": "code",
   "execution_count": 38,
   "id": "d3077d87-b841-42e7-a988-89b7c7f4e67b",
   "metadata": {},
   "outputs": [],
   "source": [
    "import numpy as np\n",
    "import pandas as pd\n",
    "from scipy.stats import t\n",
    "from scipy.stats import binom\n",
    "from scipy.stats import poisson\n",
    "from scipy.stats import chi2_contingency"
   ]
  },
  {
   "cell_type": "markdown",
   "id": "a5e4ae5f-62ba-48a5-be5f-f8e1a469ab9c",
   "metadata": {},
   "source": [
    "<b>Teste Qui-Quadrado</b><hr>\n",
    "Avalia a depêndencia dos resultados com a variável categorica."
   ]
  },
  {
   "cell_type": "code",
   "execution_count": 44,
   "id": "20f5edc9-4ad4-4ac9-b853-9a49d1a37fd3",
   "metadata": {},
   "outputs": [
    {
     "data": {
      "text/plain": [
       "array([[19,  6],\n",
       "       [43, 32]])"
      ]
     },
     "execution_count": 44,
     "metadata": {},
     "output_type": "execute_result"
    }
   ],
   "source": [
    "# Criação da matriz das proporções\n",
    "# Homens e Mulher que assistem e não assistem novela\n",
    "\n",
    "novela = np.array([[19,6],[43,32]])\n",
    "novela"
   ]
  },
  {
   "cell_type": "code",
   "execution_count": 45,
   "id": "fc9997b2-c758-461c-ba30-b25f2c270e1d",
   "metadata": {},
   "outputs": [
    {
     "data": {
      "text/plain": [
       "0.15347667161786666"
      ]
     },
     "execution_count": 45,
     "metadata": {},
     "output_type": "execute_result"
    }
   ],
   "source": [
    "chi2, p_value, dof, expected = chi2_contingency(novela)\n",
    "p_value"
   ]
  },
  {
   "cell_type": "markdown",
   "id": "38d9170d-2a22-428f-9dac-08a39758bb5d",
   "metadata": {},
   "source": [
    "p-value > 0.05 não há evidências para rejeitar a hipótese nula\n",
    "\n",
    "<b>H0</b> = Não existe depêndencia dos resultados em questão de sexo feminino ou masculino"
   ]
  },
  {
   "cell_type": "code",
   "execution_count": null,
   "id": "2d53e4e3-4d91-4111-81e8-3ec8bc19b5ad",
   "metadata": {},
   "outputs": [],
   "source": []
  }
 ],
 "metadata": {
  "kernelspec": {
   "display_name": "Python 3 (ipykernel)",
   "language": "python",
   "name": "python3"
  },
  "language_info": {
   "codemirror_mode": {
    "name": "ipython",
    "version": 3
   },
   "file_extension": ".py",
   "mimetype": "text/x-python",
   "name": "python",
   "nbconvert_exporter": "python",
   "pygments_lexer": "ipython3",
   "version": "3.9.18"
  }
 },
 "nbformat": 4,
 "nbformat_minor": 5
}
