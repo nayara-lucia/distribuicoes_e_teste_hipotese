{
 "cells": [
  {
   "cell_type": "code",
   "execution_count": 20,
   "id": "9a69059e-6a70-4f87-97bc-98a75fd6c685",
   "metadata": {},
   "outputs": [],
   "source": [
    "import numpy as np\n",
    "import pandas as pd\n",
    "from scipy.stats import t\n",
    "from scipy.stats import binom\n",
    "from scipy.stats import poisson\n",
    "from scipy.stats import chi2_contingency"
   ]
  },
  {
   "cell_type": "markdown",
   "id": "5f968f3f-86da-42d6-8f89-69f15410ad92",
   "metadata": {},
   "source": [
    "<b>Distribuição binomial</b>\n",
    "<hr>\n",
    "Medir a probabilidade de x eventos exatos\n",
    "\n",
    "* Eventos Independentes\n",
    "* Numero fixo de experimentos\n",
    "* Somente dois resultados possíveis (sucesso, fracasso)\n",
    "* Mesma probabilidade em todas as tentativas"
   ]
  },
  {
   "cell_type": "markdown",
   "id": "11ced0c8-8904-4fe2-b333-b77fd91a472b",
   "metadata": {},
   "source": [
    "1. Probabilidade de jogar uma moeda 5 vezes e dar cara 3 vezes."
   ]
  },
  {
   "cell_type": "markdown",
   "id": "30b29bf5-75be-4189-beaa-24fb07542bf3",
   "metadata": {},
   "source": [
    "pmf = probabilidade pontual"
   ]
  },
  {
   "cell_type": "code",
   "execution_count": 24,
   "id": "bbcbe668-0620-4034-965d-28e76cccb6ef",
   "metadata": {},
   "outputs": [
    {
     "data": {
      "text/plain": [
       "0.31249999999999983"
      ]
     },
     "execution_count": 24,
     "metadata": {},
     "output_type": "execute_result"
    }
   ],
   "source": [
    "x = 3\n",
    "p = 0.5\n",
    "n = 5\n",
    "\n",
    "prob1 = binom.pmf(x,n,p)\n",
    "prob1"
   ]
  },
  {
   "cell_type": "markdown",
   "id": "3252298e-d9aa-4c1a-a2f6-79f0c2e2fc08",
   "metadata": {},
   "source": [
    "2. Passar por 4 sinais de 4 tempos, qual a probabilidade de pegar sinal verde. 0, 1, 2, 3 ou 4 vezes seguidas?"
   ]
  },
  {
   "cell_type": "code",
   "execution_count": 28,
   "id": "db39669f-36db-413d-9a4c-5a82651f3269",
   "metadata": {},
   "outputs": [
    {
     "name": "stdout",
     "output_type": "stream",
     "text": [
      "probabilidade de pegar nenhum sinal verde: 0.3164062500000001\n",
      "probabilidade de pegar 1 sinal verde: 0.4218750000000001\n",
      "probabilidade de pegar 2 sinais verdes0.21093750000000006\n",
      "probabilidade de pegar 3 sinais verdes: 0.046875000000000014\n",
      "probabilidade de pegar 4 sinais verdes seguidos: 0.00390625\n"
     ]
    }
   ],
   "source": [
    "prob_0 = binom.pmf(0,4,0.25)\n",
    "prob_1 = binom.pmf(1,4,0.25)\n",
    "prob_2 = binom.pmf(2,4,0.25)\n",
    "prob_3 = binom.pmf(3,4,0.25)\n",
    "prob_4 = binom.pmf(4,4,0.25)\n",
    "\n",
    "print(f'probabilidade de pegar nenhum sinal verde: {prob_0}\\nprobabilidade de pegar 1 sinal verde: {prob_1}\\nprobabilidade de pegar 2 sinais verdes{prob_2}\\nprobabilidade de pegar 3 sinais verdes: {prob_3}\\nprobabilidade de pegar 4 sinais verdes seguidos: {prob_4}')"
   ]
  },
  {
   "cell_type": "code",
   "execution_count": 32,
   "id": "f1aacca8-b187-46e6-907d-31f29753b17b",
   "metadata": {},
   "outputs": [
    {
     "data": {
      "text/plain": [
       "1.0"
      ]
     },
     "execution_count": 32,
     "metadata": {},
     "output_type": "execute_result"
    }
   ],
   "source": [
    "#probabilidade acumulativa de todas as possibilidades resultando em 1\n",
    "\n",
    "prob_cdf = binom.cdf(4,4,0.25)\n",
    "prob_cdf "
   ]
  },
  {
   "cell_type": "code",
   "execution_count": 33,
   "id": "e42a3948-dc33-4280-99fc-3c25d9ad750f",
   "metadata": {},
   "outputs": [
    {
     "data": {
      "text/plain": [
       "0.99609375"
      ]
     },
     "execution_count": 33,
     "metadata": {},
     "output_type": "execute_result"
    }
   ],
   "source": [
    "# probabilidade de pegar 3 ou menos sinais verdes\n",
    "\n",
    "prob_cdf2 = binom.cdf(3,4,0.25)\n",
    "prob_cdf2 "
   ]
  },
  {
   "cell_type": "code",
   "execution_count": 35,
   "id": "5a116440-db8b-450a-a431-16a46fe07dd7",
   "metadata": {},
   "outputs": [
    {
     "data": {
      "text/plain": [
       "0.9960937500000002"
      ]
     },
     "execution_count": 35,
     "metadata": {},
     "output_type": "execute_result"
    }
   ],
   "source": [
    "prob_0 + prob_1 + prob_2 + prob_3"
   ]
  },
  {
   "cell_type": "markdown",
   "id": "d8a6079b-0712-4aa0-8587-1009684ea182",
   "metadata": {},
   "source": [
    "3. Probabilidade de pegar 4 sinais verdes em sinais de dois tempos"
   ]
  },
  {
   "cell_type": "code",
   "execution_count": 30,
   "id": "19e05b57-3880-4ce5-868b-54d38932b2de",
   "metadata": {},
   "outputs": [
    {
     "data": {
      "text/plain": [
       "0.0625"
      ]
     },
     "execution_count": 30,
     "metadata": {},
     "output_type": "execute_result"
    }
   ],
   "source": [
    "prob2 = binom.pmf(4,4,0.5)\n",
    "prob2"
   ]
  },
  {
   "cell_type": "markdown",
   "id": "1239b19c-0ca2-49af-bd7a-5e738d5d1b67",
   "metadata": {},
   "source": [
    "4. Concurso com 12 questões, qual a probabilidade de acertar 7 considerando que cada questão tem 4 alternativas?"
   ]
  },
  {
   "cell_type": "code",
   "execution_count": 36,
   "id": "cb29f3ff-5bf2-4798-8180-2f6c2a53bb52",
   "metadata": {},
   "outputs": [
    {
     "data": {
      "text/plain": [
       "0.011471271514892587"
      ]
     },
     "execution_count": 36,
     "metadata": {},
     "output_type": "execute_result"
    }
   ],
   "source": [
    "x= 7\n",
    "n = 12\n",
    "p = 0.25\n",
    "\n",
    "concurso = binom.pmf(7,12,0.25)\n",
    "concurso"
   ]
  },
  {
   "cell_type": "code",
   "execution_count": 37,
   "id": "efadc00d-882a-4620-a43a-57fb7d3d720f",
   "metadata": {},
   "outputs": [
    {
     "data": {
      "text/plain": [
       "5.9604644775390625e-06"
      ]
     },
     "execution_count": 37,
     "metadata": {},
     "output_type": "execute_result"
    }
   ],
   "source": [
    "# probabilidade de acertar as 12 questões\n",
    "\n",
    "concurso2 = binom.pmf(12,12,0.25) * 100\n",
    "concurso2"
   ]
  },
  {
   "cell_type": "code",
   "execution_count": null,
   "id": "da20b91f-ac86-4adb-8ac1-340e2aee6725",
   "metadata": {},
   "outputs": [],
   "source": []
  }
 ],
 "metadata": {
  "kernelspec": {
   "display_name": "Python 3 (ipykernel)",
   "language": "python",
   "name": "python3"
  },
  "language_info": {
   "codemirror_mode": {
    "name": "ipython",
    "version": 3
   },
   "file_extension": ".py",
   "mimetype": "text/x-python",
   "name": "python",
   "nbconvert_exporter": "python",
   "pygments_lexer": "ipython3",
   "version": "3.9.18"
  }
 },
 "nbformat": 4,
 "nbformat_minor": 5
}
